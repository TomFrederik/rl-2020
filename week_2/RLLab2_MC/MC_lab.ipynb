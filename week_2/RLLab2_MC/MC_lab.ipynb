{
 "cells": [
  {
   "cell_type": "markdown",
   "metadata": {},
   "source": [
    "# Reinforcement Learning - Monte Carlo\n",
    "If you want to test/submit your solution **restart the kernel, run all cells and submit the mc_autograde.py file into codegrade.**"
   ]
  },
  {
   "cell_type": "code",
   "execution_count": 1,
   "metadata": {},
   "outputs": [],
   "source": [
    "# This cell imports %%execwritefile command (executes cell and writes it into file). \n",
    "# All cells that start with %%execwritefile should be in mc_autograde.py file after running all cells.\n",
    "from custommagics import CustomMagics\n",
    "get_ipython().register_magics(CustomMagics)"
   ]
  },
  {
   "cell_type": "code",
   "execution_count": 2,
   "metadata": {},
   "outputs": [
    {
     "name": "stdout",
     "output_type": "stream",
     "text": [
      "Overwriting mc_autograde.py\n"
     ]
    }
   ],
   "source": [
    "%%execwritefile mc_autograde.py\n",
    "import numpy as np\n",
    "from collections import defaultdict\n",
    "from tqdm import tqdm as _tqdm\n",
    "\n",
    "def tqdm(*args, **kwargs):\n",
    "    return _tqdm(*args, **kwargs, mininterval=1)  # Safety, do not overflow buffer"
   ]
  },
  {
   "cell_type": "code",
   "execution_count": 3,
   "metadata": {},
   "outputs": [],
   "source": [
    "import matplotlib.pyplot as plt\n",
    "import sys\n",
    "\n",
    "\n",
    "%matplotlib inline\n",
    "\n",
    "assert sys.version_info[:3] >= (3, 6, 0), \"Make sure you have Python 3.6 installed!\""
   ]
  },
  {
   "cell_type": "markdown",
   "metadata": {
    "nbgrader": {
     "grade": false,
     "grade_id": "cell-7ab207a9f93cf4d3",
     "locked": true,
     "schema_version": 1,
     "solution": false
    }
   },
   "source": [
    "## 1. Monte Carlo Prediction"
   ]
  },
  {
   "cell_type": "markdown",
   "metadata": {
    "nbgrader": {
     "grade": false,
     "grade_id": "cell-5f0c1d608436b67b",
     "locked": true,
     "schema_version": 1,
     "solution": false
    }
   },
   "source": [
    "For the Monte Carlo Prediction we will look at the Blackjack game (Example 5.1 from the book), for which the `BlackjackEnv` is implemented in `blackjack.py`. Note that compared to the gridworld, the state is no longer a single integer, which is why we use a dictionary to represent the value function instead of a numpy array. By using `defaultdict`, each state gets a default value of 0."
   ]
  },
  {
   "cell_type": "code",
   "execution_count": 4,
   "metadata": {
    "nbgrader": {
     "grade": false,
     "grade_id": "cell-a342b69fcfdea5b2",
     "locked": true,
     "schema_version": 1,
     "solution": false
    }
   },
   "outputs": [],
   "source": [
    "from blackjack import BlackjackEnv\n",
    "env = BlackjackEnv()"
   ]
  },
  {
   "cell_type": "markdown",
   "metadata": {},
   "source": [
    "For the Monte Carlo algorithm, we no longer have transition probabilities and we need to *interact* with the environment. This means that we start an episode by using `env.reset` and send the environment actions via `env.step` to observe the reward and next observation (state)."
   ]
  },
  {
   "cell_type": "code",
   "execution_count": 5,
   "metadata": {
    "nbgrader": {
     "grade": false,
     "grade_id": "cell-85356add2643980e",
     "locked": true,
     "schema_version": 1,
     "solution": false
    }
   },
   "outputs": [],
   "source": [
    "# So let's have a look at what we can do in general with an environment...\n",
    "import gym\n",
    "?gym.Env"
   ]
  },
  {
   "cell_type": "code",
   "execution_count": 6,
   "metadata": {
    "nbgrader": {
     "grade": false,
     "grade_id": "cell-251b7b17c5d08a24",
     "locked": true,
     "schema_version": 1,
     "solution": false
    }
   },
   "outputs": [],
   "source": [
    "# We can also look at the documentation/implementation of a method\n",
    "?env.step"
   ]
  },
  {
   "cell_type": "code",
   "execution_count": 8,
   "metadata": {
    "nbgrader": {
     "grade": false,
     "grade_id": "cell-6decb2ab83c5bcec",
     "locked": true,
     "schema_version": 1,
     "solution": false
    }
   },
   "outputs": [],
   "source": [
    "??BlackjackEnv"
   ]
  },
  {
   "cell_type": "markdown",
   "metadata": {
    "nbgrader": {
     "grade": false,
     "grade_id": "cell-ae161126d3cb1b7b",
     "locked": true,
     "schema_version": 1,
     "solution": false
    }
   },
   "source": [
    "A very simple policy for Blackjack is to *stick* if we have 20 or 21 points and *hit* otherwise. We want to know how good this policy is. This policy is *deterministic* and therefore a function that maps an observation to a single action. Technically, we can implement this as a dictionary , a function or a class with a function, where we use the last option. Moreover, it is often useful (as you will see later) to implement a function that returns  the probability $\\pi(a|s)$ for the state action pair (the probability that this policy would perform certain action in given state). We group these two functions in a policy class. To get started, let's implement this simple policy for BlackJack."
   ]
  },
  {
   "cell_type": "code",
   "execution_count": 23,
   "metadata": {
    "nbgrader": {
     "grade": false,
     "grade_id": "cell-9fdcb503df9cdb08",
     "locked": false,
     "schema_version": 1,
     "solution": true
    }
   },
   "outputs": [
    {
     "name": "stdout",
     "output_type": "stream",
     "text": [
      "Appending to mc_autograde.py\n"
     ]
    }
   ],
   "source": [
    "%%execwritefile -a mc_autograde.py\n",
    "\n",
    "class SimpleBlackjackPolicy(object):\n",
    "    \"\"\"\n",
    "    A simple BlackJack policy that sticks with 20 or 21 points and hits otherwise.\n",
    "    \"\"\"\n",
    "    def get_probs(self, states, actions):\n",
    "        \"\"\"\n",
    "        This method takes a list of states and a list of actions and returns a numpy array that contains a probability\n",
    "        of perfoming action in given state for every corresponding state action pair. \n",
    "\n",
    "        Args:\n",
    "            states: a list of states.\n",
    "            actions: a list of actions.\n",
    "\n",
    "        Returns:\n",
    "            Numpy array filled with probabilities (same length as states and actions)\n",
    "        \"\"\"\n",
    "        \n",
    "        ## MY CODE ##\n",
    "        assert len(states) == len(actions), \"There must be equally many states and actions\"\n",
    "        probs = []\n",
    "        for state, action in zip(states, actions):\n",
    "            # works only because the policy is deterministic\n",
    "            if self.sample_action(state) == action:\n",
    "                probs.append(1)\n",
    "            else:\n",
    "                probs.append(0)\n",
    "\n",
    "        ## ##\n",
    "        \n",
    "        return np.array(probs)\n",
    "    \n",
    "    def sample_action(self, state):\n",
    "        \"\"\"\n",
    "        This method takes a state as input and returns an action sampled from this policy.  \n",
    "\n",
    "        Args:\n",
    "            state: current state\n",
    "\n",
    "        Returns:\n",
    "            An action (int).\n",
    "        \"\"\"\n",
    "        ## MY CODE ##\n",
    "        if state[0] >= 20:\n",
    "            action = 0\n",
    "        else:\n",
    "            action = 1\n",
    "        ## ##\n",
    "        \n",
    "        return action"
   ]
  },
  {
   "cell_type": "code",
   "execution_count": 24,
   "metadata": {
    "nbgrader": {
     "grade": true,
     "grade_id": "cell-99f02e2d9b338a5b",
     "locked": true,
     "points": 1,
     "schema_version": 1,
     "solution": false
    }
   },
   "outputs": [
    {
     "name": "stdout",
     "output_type": "stream",
     "text": [
      "State: (18, 4, False)\n",
      "Sampled Action: 1\n",
      "Probabilities [stick, hit]: [0. 1.]\n"
     ]
    }
   ],
   "source": [
    "# Let's check if it makes sense\n",
    "env = BlackjackEnv()\n",
    "s = env.reset()\n",
    "policy = SimpleBlackjackPolicy()\n",
    "print(\"State: {}\\nSampled Action: {}\\nProbabilities [stick, hit]: {}\".format(s, policy.sample_action(s), policy.get_probs([s,s],[0,1])))"
   ]
  },
  {
   "cell_type": "markdown",
   "metadata": {},
   "source": [
    "Since there are multiple algorithms which require data from single episode (or multiple episodes) it is often useful to write a routine that will sample a single episode. This will save us some time later. Implement a *sample_episode* function which uses environment and policy to sample a single episode."
   ]
  },
  {
   "cell_type": "code",
   "execution_count": 25,
   "metadata": {},
   "outputs": [
    {
     "name": "stdout",
     "output_type": "stream",
     "text": [
      "Appending to mc_autograde.py\n"
     ]
    }
   ],
   "source": [
    "%%execwritefile -a mc_autograde.py\n",
    "\n",
    "def sample_episode(env, policy):\n",
    "    \"\"\"\n",
    "    A sampling routine. Given environment and a policy samples one episode and returns states, actions, rewards\n",
    "    and dones from environment's step function and policy's sample_action function as lists.\n",
    "\n",
    "    Args:\n",
    "        env: OpenAI gym environment.\n",
    "        policy: A policy which allows us to sample actions with its sample_action method.\n",
    "\n",
    "    Returns:\n",
    "        Tuple of lists (states, actions, rewards, dones). All lists should have same length. \n",
    "        Hint: Do not include the state after the termination in the list of states.\n",
    "    \"\"\"\n",
    "    states = []\n",
    "    actions = []\n",
    "    rewards = []\n",
    "    dones = []\n",
    "    \n",
    "    ## MY CODE ##\n",
    "    states.append(env.reset())\n",
    "    dones.append(False)\n",
    "    while not dones[-1]:\n",
    "        actions.append(policy.sample_action(states[-1]))\n",
    "        obs, rew, done, info = env.step(actions[-1])\n",
    "        if not done: \n",
    "            states.append(obs)\n",
    "        rewards.append(rew)\n",
    "        dones.append(done)\n",
    "    ## ##\n",
    "    return states, actions, rewards, dones"
   ]
  },
  {
   "cell_type": "code",
   "execution_count": 27,
   "metadata": {},
   "outputs": [
    {
     "name": "stdout",
     "output_type": "stream",
     "text": [
      "Episode 0:\n",
      "States [(19, 7, False)]\n",
      "Actions [1]\n",
      "Rewards [-1]\n",
      "Dones [False, True]\n",
      "\n",
      "Episode 1:\n",
      "States [(13, 10, False)]\n",
      "Actions [1]\n",
      "Rewards [-1]\n",
      "Dones [False, True]\n",
      "\n",
      "Episode 2:\n",
      "States [(20, 10, False)]\n",
      "Actions [0]\n",
      "Rewards [1]\n",
      "Dones [False, True]\n",
      "\n"
     ]
    }
   ],
   "source": [
    "# Let's sample some episodes\n",
    "env = BlackjackEnv()\n",
    "policy = SimpleBlackjackPolicy()\n",
    "for episode in range(3):\n",
    "    trajectory_data = sample_episode(env, policy)\n",
    "    print(\"Episode {}:\\nStates {}\\nActions {}\\nRewards {}\\nDones {}\\n\".format(episode,*trajectory_data))"
   ]
  },
  {
   "cell_type": "markdown",
   "metadata": {
    "nbgrader": {
     "grade": false,
     "grade_id": "cell-0184f4c719afb98c",
     "locked": true,
     "schema_version": 1,
     "solution": false
    }
   },
   "source": [
    "Now implement the MC prediction algorithm (either first visit or every visit). Hint: you can use `for i in tqdm(range(num_episodes))` to show a progress bar. Use the sampling function from above to sample data from a single episode."
   ]
  },
  {
   "cell_type": "code",
   "execution_count": 47,
   "metadata": {},
   "outputs": [
    {
     "name": "stdout",
     "output_type": "stream",
     "text": [
      "Appending to mc_autograde.py\n"
     ]
    }
   ],
   "source": [
    "%%execwritefile -a mc_autograde.py\n",
    "\n",
    "def mc_prediction(env, policy, num_episodes, discount_factor=1.0, sampling_function=sample_episode):\n",
    "    \"\"\"\n",
    "    Monte Carlo prediction algorithm. Calculates the value function\n",
    "    for a given policy using sampling.\n",
    "    \n",
    "    Args:\n",
    "        env: OpenAI gym environment.\n",
    "        policy: A policy which allows us to sample actions with its sample_action method.\n",
    "        num_episodes: Number of episodes to sample.\n",
    "        discount_factor: Gamma discount factor.\n",
    "        sampling_function: Function that generates data from one episode.\n",
    "    \n",
    "    Returns:\n",
    "        A dictionary that maps from state -> value.\n",
    "        The state is a tuple and the value is a float.\n",
    "    \"\"\"\n",
    "\n",
    "    # Keeps track of current V and count of returns for each state\n",
    "    # to calculate an update.\n",
    "    V = defaultdict(float)\n",
    "    returns_count = defaultdict(float)\n",
    "    \n",
    "    ## MY CODE ##\n",
    "    # first visit\n",
    "    for i in tqdm(range(num_episodes)):\n",
    "        states, actions, rewards, dones = sampling_function(env, policy)\n",
    "        \n",
    "        # keeps track of first visit\n",
    "        already_updated = defaultdict(bool)\n",
    "        # keeps track of episode return\n",
    "        episode_returns = defaultdict(float)\n",
    "        \n",
    "        for j in range(len(states))[::-1]:\n",
    "            \n",
    "            if not(states[j] in already_updated):\n",
    "                already_updated[states[j]] =  True\n",
    "                returns_count[states[j]] += 1\n",
    "                episode_returns[states[j]] = 0\n",
    "                V[states[j]] = 0\n",
    "\n",
    "            episode_returns[states[j]] *= discount_factor\n",
    "            episode_returns[states[j]] += rewards[j]\n",
    "\n",
    "        # update value function\n",
    "        \n",
    "        for state in V.keys():\n",
    "            V[state] += 1/returns_count[state] * (episode_returns[state] - V[state])\n",
    "                \n",
    "                \n",
    "            \n",
    "    \n",
    "    ## ##\n",
    "    \n",
    "    return V"
   ]
  },
  {
   "cell_type": "code",
   "execution_count": 48,
   "metadata": {},
   "outputs": [
    {
     "name": "stderr",
     "output_type": "stream",
     "text": [
      "100%|██████████| 10000/10000 [00:02<00:00, 3508.40it/s]"
     ]
    },
    {
     "name": "stdout",
     "output_type": "stream",
     "text": [
      "defaultdict(<class 'float'>, {(18, 10, False): 0.0, (21, 8, True): 4.300834391144852e-05, (21, 7, False): 0.0, (15, 7, False): -0.0042751659651970204, (13, 2, False): -0.008229897481349033, (20, 7, False): 0.003209837413413873, (18, 3, False): 0.0, (20, 1, False): 0.003820449299789721, (14, 10, False): 0.0, (14, 10, True): 0.0, (15, 3, False): 0.0, (14, 3, False): 0.0, (21, 9, True): 0.01135952351900119, (18, 5, False): 0.0, (18, 5, True): 0.0, (15, 10, False): -0.002325505104928635, (15, 9, False): 0.0, (12, 9, False): 0.0, (19, 4, False): -0.002235390274240872, (12, 4, False): -0.00670652814822198, (20, 2, False): -0.006111444365376273, (15, 2, False): -0.0023176217834378365, (20, 10, False): 0.0015599544131481935, (13, 3, False): 0.0, (20, 8, False): 0.0029600046672623188, (16, 8, False): 0.0, (20, 6, False): 0.003625369655339574, (18, 6, False): -0.006360767973146918, (15, 6, False): 0.0, (18, 8, False): -0.005880739470573247, (14, 7, False): -0.0014792859793000218, (20, 5, False): 0.004510736194843341, (16, 10, False): 0.0, (13, 10, False): 0.0, (12, 1, False): 0.0, (18, 9, False): 0.0, (16, 9, False): -0.0077899657054012385, (19, 8, False): -0.008572256221214592, (14, 8, False): -0.004014096623985281, (12, 6, False): 0.0, (12, 10, False): -0.002439386064842038, (15, 10, True): 0.0, (18, 3, True): 0.0, (14, 3, True): 0.0, (21, 7, True): 0.017838998120205254, (18, 7, True): 0.0, (18, 2, False): -0.007289037750351737, (21, 10, True): 0.004348023314755425, (17, 10, True): 0.0, (16, 3, False): -0.005572844868412738, (19, 6, False): 0.0, (17, 10, False): 0.0, (19, 10, False): -0.00197882155140927, (16, 6, False): -0.0020381413701485835, (15, 1, False): -0.001714212483724606, (21, 10, False): 0.002463203004577203, (20, 4, False): 0.0, (17, 6, False): 0.0, (20, 10, True): 0.002906838571844078, (14, 6, False): -0.0026963278462422656, (17, 8, False): -0.0025426597748434906, (15, 5, False): 0.0, (18, 1, False): -0.004801521816373915, (18, 1, True): 0.0, (15, 1, True): 0.0, (17, 7, False): -0.002141561134631271, (12, 7, False): 0.0, (21, 9, False): 0.0002953146855997967, (16, 9, True): 0.0, (21, 5, False): 0.010647770871914286, (14, 5, False): 0.0, (19, 2, False): -0.007551725845836572, (20, 9, False): 0.005781193819679433, (13, 10, True): 0.0, (19, 3, False): 0.0, (17, 3, False): -0.00563252341509801, (19, 5, False): 0.0, (13, 9, False): 0.0, (16, 5, False): -0.009989373600531997, (13, 5, False): 0.0, (20, 3, False): 0.0052715945286235, (17, 9, False): -0.005909022177056393, (13, 9, True): 0.0, (17, 2, False): -0.0040839118515134465, (16, 10, True): 0.0, (20, 1, True): 1.0723637101370317e-06, (15, 8, False): 0.0, (21, 3, False): 0.0, (12, 5, False): 0.0, (13, 4, False): -0.0018536000848421849, (19, 4, True): 0.0, (13, 1, False): -0.006386211075225314, (20, 6, True): 1.1244362693072969e-10, (17, 6, True): 0.0, (14, 6, True): 0.0, (21, 1, True): 0.020674533480666727, (19, 9, False): -0.004053994880752859, (21, 6, True): 0.0002739831818620996, (19, 1, False): -0.0012829307563336804, (21, 5, True): 0.01606486963347128, (17, 5, False): -0.0059015649280059835, (14, 1, False): -0.008403204268931354, (16, 7, False): -0.009707804690503653, (18, 10, True): 0.0, (14, 4, False): 0.0, (14, 9, False): 0.0, (17, 1, False): -0.0048849608521146625, (15, 4, False): -0.006011105337811824, (21, 4, False): 0.001045570347588973, (18, 4, False): -0.005897415881541245, (17, 4, False): -0.006408108371613877, (19, 2, True): 0.0, (16, 2, False): 0.0, (13, 6, False): -0.00151937195797894, (12, 3, False): 0.0, (13, 8, False): -0.000983477399441208, (12, 2, False): 0.0, (18, 8, True): 0.0, (21, 2, False): 0.0012473863866010065, (21, 4, True): 0.0006931968931039602, (16, 4, True): 0.0, (14, 4, True): 0.0, (21, 8, False): 0.0033457673562602803, (16, 4, False): -0.005758621686534169, (18, 2, True): 0.0, (20, 7, True): 0.043478260869565216, (19, 7, True): 0.0, (18, 6, True): 0.0, (18, 7, False): -0.008490615685774453, (21, 2, True): 0.001025553781282059, (20, 2, True): 0.01749735100969595, (13, 2, True): 0.0, (21, 1, False): 7.4862163701725934e-06, (21, 6, False): 0.0128952416504681, (17, 1, True): 0.0, (16, 1, True): 0.0, (14, 1, True): 0.0, (13, 1, True): 0.0, (13, 7, False): -0.0034052685561030997, (20, 9, True): 2.772938572685429e-12, (21, 3, True): 0.004150115148477854, (19, 7, False): -0.007008350160092815, (12, 8, False): 0.0, (16, 1, False): 0.0, (15, 5, True): 0.0, (14, 2, False): 0.0, (16, 7, True): 0.0, (19, 5, True): 0.0, (20, 3, True): 6.485052344740104e-26, (18, 4, True): 0.0, (15, 4, True): 0.0, (19, 6, True): 0.0, (19, 8, True): 0.0, (14, 8, True): 0.0, (15, 6, True): 0.0, (12, 6, True): 0.0, (19, 10, True): 0.0, (16, 8, True): 0.0, (16, 5, True): 0.0, (20, 5, True): 0.0, (17, 9, True): 0.0, (15, 9, True): 0.0, (12, 7, True): 0.0, (19, 9, True): 0.0, (13, 4, True): 0.0, (17, 7, True): 0.0, (14, 7, True): 0.0, (17, 3, True): 0.0, (16, 3, True): 0.0, (13, 7, True): 0.0, (14, 9, True): 0.0, (17, 8, True): 0.0, (15, 8, True): 0.0, (19, 1, True): 0.0, (12, 2, True): 0.0, (16, 2, True): 0.0, (15, 3, True): 0.0, (14, 5, True): 0.0, (18, 9, True): 0.0, (14, 2, True): 0.0, (12, 10, True): 0.0, (12, 5, True): 0.0, (17, 2, True): 0.0, (20, 4, True): 1.2611084453690912e-15, (13, 6, True): 0.0, (12, 8, True): 0.0, (13, 8, True): 0.0, (12, 4, True): 0.0, (19, 3, True): 0.0, (16, 6, True): 0.0, (20, 8, True): 0.00024489796388854764, (13, 3, True): 0.0, (15, 7, True): 0.0, (17, 4, True): 0.0, (15, 2, True): 0.0, (17, 5, True): 0.0, (13, 5, True): 0.0, (12, 3, True): 0.0, (12, 1, True): 0.0, (12, 9, True): 0.0})\n"
     ]
    },
    {
     "name": "stderr",
     "output_type": "stream",
     "text": [
      "\n"
     ]
    }
   ],
   "source": [
    "V_10k = mc_prediction(env, SimpleBlackjackPolicy(), num_episodes=10000)\n",
    "print(V_10k)"
   ]
  },
  {
   "cell_type": "markdown",
   "metadata": {
    "nbgrader": {
     "grade": false,
     "grade_id": "cell-9d32f907f180c088",
     "locked": true,
     "schema_version": 1,
     "solution": false
    }
   },
   "source": [
    "Now make *4 plots* like Figure 5.1 in the book. You can either make 3D plots or heatmaps. Make sure that your results look similar to the results in the book. Give your plots appropriate titles, axis labels, etc."
   ]
  },
  {
   "cell_type": "code",
   "execution_count": 49,
   "metadata": {
    "nbgrader": {
     "grade": false,
     "grade_id": "cell-cbaf4d6a0e4c00fa",
     "locked": true,
     "schema_version": 1,
     "solution": false
    }
   },
   "outputs": [
    {
     "name": "stderr",
     "output_type": "stream",
     "text": [
      "100%|██████████| 10000/10000 [00:02<00:00, 3456.32it/s]\n",
      "100%|██████████| 500000/500000 [02:36<00:00, 3195.83it/s]"
     ]
    },
    {
     "name": "stdout",
     "output_type": "stream",
     "text": [
      "CPU times: user 2min 37s, sys: 353 ms, total: 2min 37s\n",
      "Wall time: 2min 39s\n"
     ]
    },
    {
     "name": "stderr",
     "output_type": "stream",
     "text": [
      "\n"
     ]
    }
   ],
   "source": [
    "%%time\n",
    "# Let's run your code one time\n",
    "V_10k = mc_prediction(env, SimpleBlackjackPolicy(), num_episodes=10000)\n",
    "V_500k = mc_prediction(env, SimpleBlackjackPolicy(), num_episodes=500000)"
   ]
  },
  {
   "cell_type": "code",
   "execution_count": 76,
   "metadata": {
    "nbgrader": {
     "grade": true,
     "grade_id": "cell-ba046443478aa517",
     "locked": false,
     "points": 2,
     "schema_version": 1,
     "solution": true
    }
   },
   "outputs": [
    {
     "data": {
      "image/png": "[encoded data removed]",
      "text/plain": [
       "<Figure size 432x288 with 1 Axes>"
      ]
     },
     "metadata": {
      "needs_background": "light"
     },
     "output_type": "display_data"
    },
    {
     "data": {
      "image/png": "[encoded data removed]",
      "text/plain": [
       "<Figure size 432x288 with 1 Axes>"
      ]
     },
     "metadata": {
      "needs_background": "light"
     },
     "output_type": "display_data"
    }
   ],
   "source": [
    "## MY CODE ##\n",
    "from mpl_toolkits.mplot3d import axes3d, Axes3D\n",
    "\n",
    "# extract V as a numpy array\n",
    "def get_array(V):\n",
    "    '''\n",
    "    Converts V to a numpy array\n",
    "    In:\n",
    "    V: dict from state -> value\n",
    "    Out:\n",
    "    V_array - ndarray of shape (11,10) with the V values\n",
    "    '''\n",
    "    \n",
    "    V_array = np.zeros((11, 10))\n",
    "    for state in V.keys():\n",
    "        V_array[state[0]-11, state[1]-1] = V[state]\n",
    "    return V_array\n",
    "\n",
    "fig = plt.figure()\n",
    "ax = Axes3D(fig)\n",
    "X, Y = np.meshgrid(np.arange(10,21), np.arange(1,11))\n",
    "V10k_arr = get_array(V_10k) \n",
    "ax.plot_surface(X, Y, V10k_arr.T, cmap='viridis')\n",
    "ax.set_ylabel('Dealer showing')\n",
    "ax.set_xlabel('Player sum')\n",
    "ax.set_zlabel('V')\n",
    "ax.view_init(30,250)\n",
    "\n",
    "fig = plt.figure()\n",
    "ax = Axes3D(fig)\n",
    "X, Y = np.meshgrid(np.arange(10,21), np.arange(1,11))\n",
    "V500k_arr = get_array(V_500k) \n",
    "ax.plot_surface(X, Y, V500k_arr.T, cmap='viridis')\n",
    "ax.set_ylabel('Dealer showing')\n",
    "ax.set_xlabel('Player sum')\n",
    "ax.set_zlabel('V')\n",
    "ax.view_init(30,250)\n",
    "\n",
    "##  ##"
   ]
  },
  {
   "cell_type": "markdown",
   "metadata": {},
   "source": [
    "## 2. Off-policy Monte Carlo prediction\n",
    "In real world, it is often beneficial to learn from the experience of others in addition to your own. For example, you can probably infer that running off the cliff with a car is a bad idea if you consider what \"return\" people who have tried it received.\n",
    "\n",
    "Similarly, we can benefit from the experience of other agents in reinforcement learning. In this exercise we will use off-policy monte carlo to estimate the value function of our target policy using the experience from a different behavior policy. Our target policy will be the simple policy defined above (stick if we have *20* or *21* points) and we will use a random policy that randomly chooses to stick or hit (both with 50% probability) as a behavior policy. As a first step, implement a random BlackJack policy."
   ]
  },
  {
   "cell_type": "code",
   "execution_count": null,
   "metadata": {},
   "outputs": [],
   "source": [
    "%%execwritefile -a mc_autograde.py\n",
    "\n",
    "class RandomBlackjackPolicy(object):\n",
    "    \"\"\"\n",
    "    A random BlackJack policy.\n",
    "    \"\"\"\n",
    "    def get_probs(self, states, actions):\n",
    "        \"\"\"\n",
    "        This method takes a list of states and a list of actions and returns a numpy array that contains \n",
    "        a probability of perfoming action in given state for every corresponding state action pair. \n",
    "\n",
    "        Args:\n",
    "            states: a list of states.\n",
    "            actions: a list of actions.\n",
    "\n",
    "        Returns:\n",
    "            Numpy array filled with probabilities (same length as states and actions)\n",
    "        \"\"\"\n",
    "        # YOUR CODE HERE\n",
    "        raise NotImplementedError\n",
    "        return probs\n",
    "    \n",
    "    def sample_action(self, state):\n",
    "        \"\"\"\n",
    "        This method takes a state as input and returns an action sampled from this policy.  \n",
    "\n",
    "        Args:\n",
    "            state: current state\n",
    "\n",
    "        Returns:\n",
    "            An action (int).\n",
    "        \"\"\"\n",
    "        # YOUR CODE HERE\n",
    "        raise NotImplementedError\n",
    "        return action\n"
   ]
  },
  {
   "cell_type": "code",
   "execution_count": null,
   "metadata": {},
   "outputs": [],
   "source": [
    "# Let's check if it makes sense\n",
    "env = BlackjackEnv()\n",
    "s = env.reset()\n",
    "policy = RandomBlackjackPolicy()\n",
    "print(\"State: {}\\nSampled Action: {}\\nProbabilities [stick, hit]: {}\".format(s, policy.sample_action(s), policy.get_probs([s,s],[0,1])))"
   ]
  },
  {
   "cell_type": "markdown",
   "metadata": {},
   "source": [
    "Now implement the MC prediction algorithm with ordinary importance sampling. Use the sampling function from above to sample data from a single episode.\n",
    "\n",
    "Hint: Get probs functions may be handy. You can use `for i in tqdm(range(num_episodes))` to show a progress bar."
   ]
  },
  {
   "cell_type": "code",
   "execution_count": null,
   "metadata": {},
   "outputs": [],
   "source": [
    "%%execwritefile -a mc_autograde.py\n",
    "\n",
    "def mc_importance_sampling(env, behavior_policy, target_policy, num_episodes, discount_factor=1.0,\n",
    "                           sampling_function=sample_episode):\n",
    "    \"\"\"\n",
    "    Monte Carlo prediction algorithm. Calculates the value function\n",
    "    for a given target policy using behavior policy and ordinary importance sampling.\n",
    "    \n",
    "    Args:\n",
    "        env: OpenAI gym environment.\n",
    "        behavior_policy: A policy used to collect the data.\n",
    "        target_policy: A policy which value function we want to estimate.\n",
    "        num_episodes: Number of episodes to sample.\n",
    "        discount_factor: Gamma discount factor.\n",
    "        sampling_function: Function that generates data from one episode.\n",
    "    \n",
    "    Returns:\n",
    "        A dictionary that maps from state -> value.\n",
    "        The state is a tuple and the value is a float.\n",
    "    \"\"\"\n",
    "\n",
    "    # Keeps track of current V and count of returns for each state\n",
    "    # to calculate an update.\n",
    "    V = defaultdict(float)\n",
    "    returns_count = defaultdict(float)\n",
    "    \n",
    "    # YOUR CODE HERE\n",
    "    raise NotImplementedError\n",
    "    return V"
   ]
  },
  {
   "cell_type": "code",
   "execution_count": null,
   "metadata": {},
   "outputs": [],
   "source": [
    "V_10k = mc_importance_sampling(env, RandomBlackjackPolicy(), SimpleBlackjackPolicy(), num_episodes=10000)\n",
    "print(V_10k)"
   ]
  },
  {
   "cell_type": "code",
   "execution_count": null,
   "metadata": {},
   "outputs": [],
   "source": [
    "%%time\n",
    "# Let's run your code one time\n",
    "V_10k = mc_importance_sampling(env, RandomBlackjackPolicy(), SimpleBlackjackPolicy(), num_episodes=10000)\n",
    "V_500k = mc_importance_sampling(env, RandomBlackjackPolicy(), SimpleBlackjackPolicy(), num_episodes=500000)"
   ]
  },
  {
   "cell_type": "markdown",
   "metadata": {},
   "source": [
    "Plot the V function. Do the plots look like what you expected?"
   ]
  },
  {
   "cell_type": "code",
   "execution_count": null,
   "metadata": {},
   "outputs": [],
   "source": [
    "# YOUR CODE HERE\n",
    "raise NotImplementedError"
   ]
  },
  {
   "cell_type": "markdown",
   "metadata": {},
   "source": [
    "If you want to test/submit your solution **restart the kernel, run all cells and submit the mc_autograde.py file into codegrade.**"
   ]
  }
 ],
 "metadata": {
  "celltoolbar": "Create Assignment",
  "kernelspec": {
   "display_name": "Python 3",
   "language": "python",
   "name": "python3"
  },
  "language_info": {
   "codemirror_mode": {
    "name": "ipython",
    "version": 3
   },
   "file_extension": ".py",
   "mimetype": "text/x-python",
   "name": "python",
   "nbconvert_exporter": "python",
   "pygments_lexer": "ipython3",
   "version": "3.7.3"
  }
 },
 "nbformat": 4,
 "nbformat_minor": 2
}
